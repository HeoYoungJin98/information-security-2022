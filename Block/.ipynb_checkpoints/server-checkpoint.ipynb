{
 "cells": [
  {
   "cell_type": "code",
   "execution_count": null,
   "id": "2ab08a1e",
   "metadata": {},
   "outputs": [
    {
     "name": "stdout",
     "output_type": "stream",
     "text": [
      "[*] Key generated: b'A\\x1a^:Yi\\xb8\\xc7~\\xd0=\\xe6a\\x91,Z'\n",
      "[*] Server started on 0.0.0.0:24000\n",
      "[*] Accepted a connection from ('127.0.0.1', 50421)\n"
     ]
    }
   ],
   "source": [
    "from random import random\n",
    "from socket import AddressFamily, AddressInfo, SocketKind, socket\n",
    "from threading import Thread\n",
    "\n",
    "from Crypto.Random import get_random_bytes\n",
    "\n",
    "ENCRYPTION_KEY:bytes = b\"\"\n",
    "CLIENT_LIST:dict[AddressInfo, socket] = {}\n",
    "\n",
    "class SocketWorker(Thread):\n",
    "    def __init__(self, socket: socket, addr:AddressInfo):\n",
    "        super().__init__()\n",
    "        self.sock = socket\n",
    "        self.addr = addr\n",
    "        CLIENT_LIST[addr] = socket\n",
    "    \n",
    "    def broadcast(self, msg:bytes):\n",
    "        print(str(self.addr) + \": \" + str(msg))\n",
    "        \n",
    "        for (addr, sock) in CLIENT_LIST.items():\n",
    "            if addr == self.addr:\n",
    "                continue\n",
    "\n",
    "            sock.send(msg)\n",
    "\n",
    "    def run(self):\n",
    "        self.sock.send(ENCRYPTION_KEY)\n",
    "\n",
    "        try:\n",
    "            while True:\n",
    "                recv_bytes = self.sock.recv(1024)\n",
    "                self.broadcast(recv_bytes)\n",
    "        except:\n",
    "            CLIENT_LIST.pop(self.addr)\n",
    "\n",
    "\n",
    "def accept_loop(sock:socket):\n",
    "    while True:\n",
    "        client, addr = sock.accept()\n",
    "\n",
    "        print(\"[*] Accepted a connection from \" + str(addr))\n",
    "        client.send(ENCRYPTION_KEY)\n",
    "\n",
    "        SocketWorker(client, addr).start()\n",
    "        \n",
    "# generate random aes key for clients\n",
    "ENCRYPTION_KEY = get_random_bytes(16)\n",
    "print(\"[*] Key generated: \" + str(ENCRYPTION_KEY))\n",
    "\n",
    "master_socket = socket(AddressFamily.AF_INET, SocketKind.SOCK_STREAM)\n",
    "master_socket.bind(('', 24000))\n",
    "master_socket.listen(1024)\n",
    "\n",
    "print(\"[*] Server started on 0.0.0.0:24000\")\n",
    "accept_loop(master_socket)"
   ]
  },
  {
   "cell_type": "code",
   "execution_count": null,
   "id": "e7d0c5d6",
   "metadata": {},
   "outputs": [],
   "source": []
  }
 ],
 "metadata": {
  "kernelspec": {
   "display_name": "Python 3 (ipykernel)",
   "language": "python",
   "name": "python3"
  },
  "language_info": {
   "codemirror_mode": {
    "name": "ipython",
    "version": 3
   },
   "file_extension": ".py",
   "mimetype": "text/x-python",
   "name": "python",
   "nbconvert_exporter": "python",
   "pygments_lexer": "ipython3",
   "version": "3.9.7"
  }
 },
 "nbformat": 4,
 "nbformat_minor": 5
}
