{
 "cells": [
  {
   "cell_type": "code",
   "execution_count": 2,
   "id": "ae94d6eb",
   "metadata": {},
   "outputs": [
    {
     "name": "stdout",
     "output_type": "stream",
     "text": [
      "Collecting pycryptodome\n",
      "  Downloading pycryptodome-3.15.0-cp35-abi3-macosx_10_9_x86_64.whl (1.6 MB)\n",
      "\u001b[K     |████████████████████████████████| 1.6 MB 6.8 MB/s eta 0:00:01\n",
      "\u001b[?25hInstalling collected packages: pycryptodome\n",
      "Successfully installed pycryptodome-3.15.0\n",
      "Note: you may need to restart the kernel to use updated packages.\n"
     ]
    }
   ],
   "source": [
    "pip install pycryptodome"
   ]
  },
  {
   "cell_type": "code",
   "execution_count": null,
   "id": "f25692fc",
   "metadata": {},
   "outputs": [
    {
     "name": "stdout",
     "output_type": "stream",
     "text": [
      "[*] connected to 127.0.0.1:24000, Receiving an encryption key...\n",
      "[*] Key received: b'A\\x1a^:Yi\\xb8\\xc7~\\xd0=\\xe6a\\x91,Z'\n",
      "[*] Now a chatting session is starting...\n",
      "Message: Hi\n",
      "Me: Hi\n",
      "Received: result\n",
      "Received: result\n"
     ]
    }
   ],
   "source": [
    "from socket import AddressFamily, SocketKind, socket\n",
    "from threading import Thread\n",
    "\n",
    "# for AES\n",
    "from Crypto.Cipher import AES\n",
    "from Crypto.Util.Padding import pad, unpad\n",
    "\n",
    "ENCRYPTION_KEY:bytes = b''\n",
    "BLOCK_SIZE = 16\n",
    "\n",
    "class Receiver(Thread):\n",
    "    def __init__(self, socket:socket):\n",
    "        super().__init__()\n",
    "        self.socket = socket\n",
    "\n",
    "    def decrypt(self, ciphertext:bytes) -> bytes:\n",
    "        # place your own implementation of\n",
    "        # AES-128-ECB decryption with pycryptodome\n",
    "        cipher = AES.new(ENCRYPTION_KEY, AES.MODE_ECB)\n",
    "        plaintext = cipher.decrypt(ciphertext)\n",
    "        result = unpad(plaintext, BLOCK_SIZE)\n",
    "\n",
    "        return result\n",
    "\n",
    "    def handle_recv(self, received:bytes):\n",
    "        try:\n",
    "            decrypt_result = self.decrypt(received)\n",
    "            print(\"Received: \" + bytes.decode(decrypt_result, \"UTF-8\"))\n",
    "        except:\n",
    "            pass\n",
    "\n",
    "    def run(self):\n",
    "        while True:\n",
    "            received:bytes = self.socket.recv(1024)\n",
    "            self.handle_recv(received)\n",
    "\n",
    "def encrypt_message(msg: bytes) -> bytes:\n",
    "    # place your own implementation of\n",
    "    # AES-128-ECB encryption with pycryptodome\n",
    "    \n",
    "    cipher = AES.new(ENCRYPTION_KEY, AES.MODE_ECB)\n",
    "    ciphertext = cipher.encrypt(pad(msg,BLOCK_SIZE))\n",
    "    \n",
    "    return ciphertext\n",
    "\n",
    "client_socket = socket(AddressFamily.AF_INET, SocketKind.SOCK_STREAM)\n",
    "client_socket.connect(('127.0.0.1', 24000))\n",
    "\n",
    "print(\"[*] connected to 127.0.0.1:24000, Receiving an encryption key...\")\n",
    "\n",
    "# try to receive encryption key (128bits)\n",
    "ENCRYPTION_KEY = client_socket.recv(16) #16byte key\n",
    "print(\"[*] Key received: \" + str(ENCRYPTION_KEY))\n",
    "print(\"[*] Now a chatting session is starting...\")\n",
    "\n",
    "# start receiving messages and chatting\n",
    "Receiver(client_socket).start()\n",
    "\n",
    "while True:\n",
    "    msg = input(\"Message: \")\n",
    "    msg_encoded = msg.encode(\"UTF-8\")\n",
    "\n",
    "    payload = encrypt_message(msg_encoded)\n",
    "    client_socket.send(payload)\n",
    "    \n",
    "    print(\"Me: \" + msg)"
   ]
  },
  {
   "cell_type": "code",
   "execution_count": null,
   "id": "9607c49b",
   "metadata": {},
   "outputs": [],
   "source": []
  }
 ],
 "metadata": {
  "kernelspec": {
   "display_name": "Python 3 (ipykernel)",
   "language": "python",
   "name": "python3"
  },
  "language_info": {
   "codemirror_mode": {
    "name": "ipython",
    "version": 3
   },
   "file_extension": ".py",
   "mimetype": "text/x-python",
   "name": "python",
   "nbconvert_exporter": "python",
   "pygments_lexer": "ipython3",
   "version": "3.9.7"
  }
 },
 "nbformat": 4,
 "nbformat_minor": 5
}
