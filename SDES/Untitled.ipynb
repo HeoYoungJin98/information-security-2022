{
 "cells": [
  {
   "cell_type": "code",
   "execution_count": 41,
   "id": "c299a299",
   "metadata": {},
   "outputs": [
    {
     "name": "stdout",
     "output_type": "stream",
     "text": [
      "[*] Input Plaintext in Binary (8bits): 11010100\n",
      "[*] Input Key in Binary (10bits): 1100110001\n",
      "Plaintext: bitarray('11010100')\n",
      "Key: bitarray('1100110001')\n"
     ]
    },
    {
     "ename": "TypeError",
     "evalue": "'bitarray.bitarray' object cannot be interpreted as an integer",
     "output_type": "error",
     "traceback": [
      "\u001b[0;31m---------------------------------------------------------------------------\u001b[0m",
      "\u001b[0;31mTypeError\u001b[0m                                 Traceback (most recent call last)",
      "\u001b[0;32m/var/folders/h_/b3cw72ns2jb648r_7fykdblw0000gp/T/ipykernel_24117/2795416875.py\u001b[0m in \u001b[0;36m<module>\u001b[0;34m\u001b[0m\n\u001b[1;32m    177\u001b[0m \u001b[0mprint\u001b[0m\u001b[0;34m(\u001b[0m\u001b[0;34mf\"Key: {bits_key}\"\u001b[0m\u001b[0;34m)\u001b[0m\u001b[0;34m\u001b[0m\u001b[0;34m\u001b[0m\u001b[0m\n\u001b[1;32m    178\u001b[0m \u001b[0;34m\u001b[0m\u001b[0m\n\u001b[0;32m--> 179\u001b[0;31m \u001b[0mresult_encrypt\u001b[0m \u001b[0;34m=\u001b[0m \u001b[0msdes\u001b[0m\u001b[0;34m(\u001b[0m\u001b[0mbits_plaintext\u001b[0m\u001b[0;34m,\u001b[0m \u001b[0mbits_key\u001b[0m\u001b[0;34m,\u001b[0m \u001b[0mMODE_ENCRYPT\u001b[0m\u001b[0;34m)\u001b[0m\u001b[0;34m\u001b[0m\u001b[0;34m\u001b[0m\u001b[0m\n\u001b[0m\u001b[1;32m    180\u001b[0m \u001b[0;34m\u001b[0m\u001b[0m\n\u001b[1;32m    181\u001b[0m \u001b[0mprint\u001b[0m\u001b[0;34m(\u001b[0m\u001b[0;34mf\"Encrypted: {result_encrypt}\"\u001b[0m\u001b[0;34m)\u001b[0m\u001b[0;34m\u001b[0m\u001b[0;34m\u001b[0m\u001b[0m\n",
      "\u001b[0;32m/var/folders/h_/b3cw72ns2jb648r_7fykdblw0000gp/T/ipykernel_24117/2795416875.py\u001b[0m in \u001b[0;36msdes\u001b[0;34m(text, key, mode)\u001b[0m\n\u001b[1;32m    126\u001b[0m     \u001b[0mkey_1\u001b[0m \u001b[0;34m=\u001b[0m \u001b[0mbitarray\u001b[0m\u001b[0;34m(\u001b[0m\u001b[0;34m)\u001b[0m\u001b[0;34m\u001b[0m\u001b[0;34m\u001b[0m\u001b[0m\n\u001b[1;32m    127\u001b[0m     \u001b[0mkey_2\u001b[0m \u001b[0;34m=\u001b[0m \u001b[0mbitarray\u001b[0m\u001b[0;34m(\u001b[0m\u001b[0;34m)\u001b[0m\u001b[0;34m\u001b[0m\u001b[0;34m\u001b[0m\u001b[0m\n\u001b[0;32m--> 128\u001b[0;31m     \u001b[0mkey_1\u001b[0m\u001b[0;34m.\u001b[0m\u001b[0mappend\u001b[0m\u001b[0;34m(\u001b[0m\u001b[0mschedule_keys\u001b[0m\u001b[0;34m(\u001b[0m\u001b[0mkey\u001b[0m\u001b[0;34m)\u001b[0m\u001b[0;34m[\u001b[0m\u001b[0;36m0\u001b[0m\u001b[0;34m]\u001b[0m\u001b[0;34m)\u001b[0m\u001b[0;34m\u001b[0m\u001b[0;34m\u001b[0m\u001b[0m\n\u001b[0m\u001b[1;32m    129\u001b[0m     \u001b[0mkey_2\u001b[0m\u001b[0;34m.\u001b[0m\u001b[0mappend\u001b[0m\u001b[0;34m(\u001b[0m\u001b[0mschedule_keys\u001b[0m\u001b[0;34m(\u001b[0m\u001b[0mkey\u001b[0m\u001b[0;34m)\u001b[0m\u001b[0;34m[\u001b[0m\u001b[0;36m1\u001b[0m\u001b[0;34m]\u001b[0m\u001b[0;34m)\u001b[0m\u001b[0;34m\u001b[0m\u001b[0;34m\u001b[0m\u001b[0m\n\u001b[1;32m    130\u001b[0m \u001b[0;34m\u001b[0m\u001b[0m\n",
      "\u001b[0;31mTypeError\u001b[0m: 'bitarray.bitarray' object cannot be interpreted as an integer"
     ]
    }
   ],
   "source": [
    "# Simplified DES (Data Encryption Standard) \n",
    "# S-DES Algorithm Template Code for CNU Information Security 2022\n",
    "\n",
    "# This code requires \"bitarray\" package.\n",
    "# Install with: pip install bitarray\n",
    "\n",
    "from ctypes import ArgumentError\n",
    "import re\n",
    "from bitarray import bitarray, util as ba_util\n",
    "\n",
    "# Initial Permutation (IP)\n",
    "IP = [ 1, 5, 2, 0, 3, 7, 4, 6 ] #평문 -> 재배치\n",
    "\n",
    "# Inverse of Initial Permutation (or Final Permutation)\n",
    "IP_1 = [ 3, 0, 2, 4, 6, 1, 7, 5]\n",
    "\n",
    "# Expansion (4bits -> 8bits)\n",
    "EP = [ 3, 0, 1, 2, 1, 2, 3, 0 ]\n",
    "\n",
    "# SBox (S0)\n",
    "S0 = [\n",
    "    [ 1, 0, 3, 2 ],\n",
    "    [ 3, 2, 1, 0 ],\n",
    "    [ 0, 2, 1, 3 ],\n",
    "    [ 3, 1, 3, 2 ]\n",
    "]\n",
    "\n",
    "# SBox (S1)\n",
    "S1 = [\n",
    "    [ 0, 1, 2, 3 ],\n",
    "    [ 2, 0, 1, 3 ],\n",
    "    [ 3, 0, 1, 0 ],\n",
    "    [ 2, 1, 0, 3 ]\n",
    "]\n",
    "\n",
    "# Permutation (P4)\n",
    "P4 = [ 1, 3, 2, 0 ]\n",
    "\n",
    "# Permutation (P10)\n",
    "P10 = [ 2, 4, 1, 6, 3, 9, 0, 8, 7, 5 ]\n",
    "\n",
    "# Permutation (P8)\n",
    "P8 = [ 5, 2, 6, 3, 7, 4, 9, 8 ]\n",
    "\n",
    "#### DES Start\n",
    "\n",
    "MODE_ENCRYPT = 1\n",
    "MODE_DECRYPT = 2\n",
    "\n",
    "'''\n",
    "schedule_keys: generate round keys for round function\n",
    "returns array of round keys.\n",
    "keep in mind that total rounds of S-DES is 2.\n",
    "'''\n",
    "def schedule_keys(key: bitarray) -> list[bitarray]:#라운드 키 생성\n",
    "    round_keys = []\n",
    "    permuted_key = bitarray()\n",
    "\n",
    "    for i in P10: #[2,4,1,6,3,9,0,8,7,5]\n",
    "        permuted_key.append(key[i]) #P10에 따라 key 섞음\n",
    "\n",
    "    permuted_key_left = permuted_key[0:5] #선택된 키 반으로 자르기 [2,4,1,6,3]\n",
    "    permuted_key_right = permuted_key[5:10] #[9,0,8,7,5]\n",
    "\n",
    "    for i in range(1, 3): #1,2\n",
    "        # shift for each round\n",
    "        # round 1: shift 1, round 2: shift 2\n",
    "        # shifting will be accumulated for each rounds\n",
    "        permuted_key_left = permuted_key_left[i:] + permuted_key_left[0:i] #shift to left\n",
    "        permuted_key_right = permuted_key_right[i:] + permuted_key_right[0:i]\n",
    "\n",
    "        # merge and permutate with P8\n",
    "        merge_permutation = permuted_key_left + permuted_key_right #Shift 후 합치기\n",
    "        round_key = bitarray()\n",
    "\n",
    "        for j in P8:#[5, 2, 6, 3, 7, 4, 9, 8]\n",
    "            round_key.append(merge_permutation[j]) #round_key에 합친 결과 넣기\n",
    "\n",
    "        round_keys.append(round_key)\n",
    "\n",
    "    return round_keys\n",
    "\n",
    "'''\n",
    "round: round function\n",
    "returns the output of round function\n",
    "'''\n",
    "\n",
    "#라운드 함수: 입력을 반으로 쪼개 번갈아가면서 투입\n",
    "#라운드마다 키가 변함\n",
    "def round(text: bitarray, round_key: bitarray) -> bitarray: #매개변수로 입력값과 라운드키 필요\n",
    "    # implement round function\n",
    "    expanded = bitarray() #선언\n",
    "    for i in EP: #[3, 0, 1, 2, 1, 2, 3, 0]\n",
    "        expanded.append(text[i])\n",
    "    expanded ^= round_key #expanded에 round_key와 XOR 한 결과 저장\n",
    "\n",
    "    # S0 \n",
    "    s0_row = expanded[0:4]\n",
    "    s0_sel_row = (s0_row[0] << 1) + s0_row[3] \n",
    "    s0_sel_col = (s0_row[1] << 1) + s0_row[2]\n",
    "    s0_result = ba_util.int2ba(S0[s0_sel_row][s0_sel_col], length=2)\n",
    "\n",
    "    # S1\n",
    "    s1_row = expanded[4:8]\n",
    "    s1_sel_row = (s1_row[0] << 1) + s1_row[3]\n",
    "    s1_sel_col = (s1_row[1] << 1) + s1_row[2]\n",
    "    s1_result = ba_util.int2ba(S1[s1_sel_row][s1_sel_col], length=2)\n",
    "\n",
    "    pre_perm4 = s0_result + s1_result #합치기\n",
    "    \n",
    "    result = bitarray()#결과를 bitarray로 선언\n",
    "    for i in P4:\n",
    "        result.append(pre_perm4[i])#집어넣기\n",
    "\n",
    "    return result\n",
    "\n",
    "'''\n",
    "sdes: encrypts/decrypts plaintext or ciphertext.\n",
    "mode determines that this function do encryption or decryption.\n",
    "     MODE_ENCRYPT or MODE_DECRYPT available.\n",
    "'''\n",
    "def sdes(text: bitarray, key: bitarray, mode) -> bitarray:\n",
    "    result = bitarray()\n",
    "    \n",
    "    # Place your own implementation of S-DES Here\n",
    "    key_1 = bitarray()\n",
    "    key_2 = bitarray()\n",
    "    key_1.append(schedule_keys(key)[0])\n",
    "    key_2.append(schedule_keys(key)[1])\n",
    "    \n",
    "    # IP [ 1, 5, 2, 0, 3, 7, 4, 6 ]를 이용해 재배치\n",
    "    for i in IP:\n",
    "        result.append(text[i])\n",
    "    \n",
    "    #round key 생성, 두 개 생성됨.\n",
    "    #Round, first key\n",
    "    if mode == 1:\n",
    "        result.append(round(result,schedule_keys(key)[0]))\n",
    "    else:\n",
    "        result.append(round(result,key_2))\n",
    "        \n",
    "    #SW\n",
    "    SW_L = result[0:4]\n",
    "    SW_R = result[4:8]\n",
    "    term = SW_L + SW_R\n",
    "    for i in range(0,8):\n",
    "        result.append(term[i])\n",
    "    \n",
    "    #Round, second key\n",
    "        if mode == 1:\n",
    "            result.append(round(result,key_2))\n",
    "        else:\n",
    "            result.append(round(result,key_1))\n",
    "    \n",
    "    #IP_1\n",
    "    for i in IP_1:\n",
    "        result.append(result[i])\n",
    "    \n",
    "    return result\n",
    "\n",
    "\n",
    "#### DES Sample Program Start\n",
    "plaintext = input(\"[*] Input Plaintext in Binary (8bits): \")\n",
    "key = input(\"[*] Input Key in Binary (10bits): \")\n",
    "\n",
    "# Plaintext must be 8 bits and Key must be 10 bits.\n",
    "if len(plaintext) != 8 or len(key) != 10: #입력 bit가 다를 경우 에러 발생\n",
    "    raise ArgumentError(\"Input Length Error!!!\")\n",
    "\n",
    "if re.search(\"[^01]\", plaintext) or re.search(\"[^01]\", key):\n",
    "    raise ArgumentError(\"Inputs must be in binary!!!\")\n",
    "\n",
    "bits_plaintext = bitarray(plaintext)#입력받은 값들 bitarray로 저장\n",
    "bits_key = bitarray(key)\n",
    "\n",
    "print(f\"Plaintext: {bits_plaintext}\")\n",
    "print(f\"Key: {bits_key}\")\n",
    "\n",
    "result_encrypt = sdes(bits_plaintext, bits_key, MODE_ENCRYPT)\n",
    "\n",
    "print(f\"Encrypted: {result_encrypt}\")\n",
    "\n",
    "result_decrypt = sdes(result_encrypt, bits_key, MODE_DECRYPT)\n",
    "\n",
    "print(f\"Decrypted: {result_decrypt}, Expected: {bits_plaintext}\")\n",
    "\n",
    "if result_decrypt != bits_plaintext:\n",
    "    print(f\"S-DES FAILED...\")\n",
    "else:\n",
    "    print(f\"S-DES SUCCESS!!!\")"
   ]
  },
  {
   "cell_type": "code",
   "execution_count": 43,
   "id": "385a2f51",
   "metadata": {},
   "outputs": [
    {
     "data": {
      "text/plain": [
       "[bitarray('10000011'), bitarray('00111101')]"
      ]
     },
     "execution_count": 43,
     "metadata": {},
     "output_type": "execute_result"
    }
   ],
   "source": [
    "schedule_keys(bits_key)"
   ]
  },
  {
   "cell_type": "code",
   "execution_count": 44,
   "id": "55c28b7c",
   "metadata": {},
   "outputs": [
    {
     "data": {
      "text/plain": [
       "bitarray('10000011')"
      ]
     },
     "execution_count": 44,
     "metadata": {},
     "output_type": "execute_result"
    }
   ],
   "source": [
    "schedule_keys(bits_key)[0]"
   ]
  },
  {
   "cell_type": "code",
   "execution_count": 47,
   "id": "85a37a37",
   "metadata": {},
   "outputs": [
    {
     "name": "stdout",
     "output_type": "stream",
     "text": [
      "<class 'bitarray.bitarray'>\n"
     ]
    }
   ],
   "source": [
    "print(type(schedule_keys(bits_key)[0]))"
   ]
  },
  {
   "cell_type": "code",
   "execution_count": null,
   "id": "15cf8e77",
   "metadata": {},
   "outputs": [],
   "source": []
  }
 ],
 "metadata": {
  "kernelspec": {
   "display_name": "Python 3 (ipykernel)",
   "language": "python",
   "name": "python3"
  },
  "language_info": {
   "codemirror_mode": {
    "name": "ipython",
    "version": 3
   },
   "file_extension": ".py",
   "mimetype": "text/x-python",
   "name": "python",
   "nbconvert_exporter": "python",
   "pygments_lexer": "ipython3",
   "version": "3.9.7"
  }
 },
 "nbformat": 4,
 "nbformat_minor": 5
}
