{
 "cells": [
  {
   "cell_type": "code",
   "execution_count": 2,
   "id": "19b119f2",
   "metadata": {},
   "outputs": [
    {
     "name": "stdout",
     "output_type": "stream",
     "text": [
      "Collecting BigNumber\n",
      "  Downloading BigNumber-1-py3-none-any.whl (5.0 kB)\n",
      "Requirement already satisfied: mpmath in /opt/anaconda3/lib/python3.9/site-packages (1.2.1)\n",
      "Installing collected packages: BigNumber\n",
      "Successfully installed BigNumber-1\n",
      "Note: you may need to restart the kernel to use updated packages.\n"
     ]
    }
   ],
   "source": [
    "pip install BigNumber mpmath"
   ]
  },
  {
   "cell_type": "code",
   "execution_count": 29,
   "id": "6d0b9866",
   "metadata": {},
   "outputs": [
    {
     "ename": "ZeroDivisionError",
     "evalue": "integer division or modulo by zero",
     "output_type": "error",
     "traceback": [
      "\u001b[0;31m---------------------------------------------------------------------------\u001b[0m",
      "\u001b[0;31mZeroDivisionError\u001b[0m                         Traceback (most recent call last)",
      "\u001b[0;32m/var/folders/h_/b3cw72ns2jb648r_7fykdblw0000gp/T/ipykernel_96528/1921116838.py\u001b[0m in \u001b[0;36m<module>\u001b[0;34m\u001b[0m\n\u001b[1;32m     71\u001b[0m \u001b[0;34m\u001b[0m\u001b[0m\n\u001b[1;32m     72\u001b[0m \u001b[0mM\u001b[0m \u001b[0;34m=\u001b[0m \u001b[0mrandom\u001b[0m\u001b[0;34m.\u001b[0m\u001b[0mrandrange\u001b[0m\u001b[0;34m(\u001b[0m\u001b[0;36m2\u001b[0m\u001b[0;34m,\u001b[0m \u001b[0;36m20\u001b[0m\u001b[0;34m)\u001b[0m \u001b[0;31m# 2~20 random number\u001b[0m\u001b[0;34m\u001b[0m\u001b[0;34m\u001b[0m\u001b[0m\n\u001b[0;32m---> 73\u001b[0;31m \u001b[0me\u001b[0m\u001b[0;34m,\u001b[0m \u001b[0md\u001b[0m\u001b[0;34m,\u001b[0m \u001b[0mN\u001b[0m \u001b[0;34m=\u001b[0m \u001b[0mmake_keys\u001b[0m\u001b[0;34m(\u001b[0m\u001b[0mP\u001b[0m\u001b[0;34m,\u001b[0m \u001b[0mQ\u001b[0m\u001b[0;34m)\u001b[0m\u001b[0;34m\u001b[0m\u001b[0;34m\u001b[0m\u001b[0m\n\u001b[0m\u001b[1;32m     74\u001b[0m \u001b[0mC\u001b[0m \u001b[0;34m=\u001b[0m \u001b[0mrsa_encrypt\u001b[0m\u001b[0;34m(\u001b[0m\u001b[0mM\u001b[0m\u001b[0;34m,\u001b[0m \u001b[0me\u001b[0m\u001b[0;34m,\u001b[0m \u001b[0mN\u001b[0m\u001b[0;34m)\u001b[0m\u001b[0;34m\u001b[0m\u001b[0;34m\u001b[0m\u001b[0m\n\u001b[1;32m     75\u001b[0m \u001b[0mM2\u001b[0m \u001b[0;34m=\u001b[0m \u001b[0mrsa_decrypt\u001b[0m\u001b[0;34m(\u001b[0m\u001b[0mC\u001b[0m\u001b[0;34m,\u001b[0m \u001b[0md\u001b[0m\u001b[0;34m,\u001b[0m \u001b[0mN\u001b[0m\u001b[0;34m)\u001b[0m\u001b[0;34m\u001b[0m\u001b[0;34m\u001b[0m\u001b[0m\n",
      "\u001b[0;32m/var/folders/h_/b3cw72ns2jb648r_7fykdblw0000gp/T/ipykernel_96528/1921116838.py\u001b[0m in \u001b[0;36mmake_keys\u001b[0;34m(p, q)\u001b[0m\n\u001b[1;32m     38\u001b[0m \u001b[0;34m\u001b[0m\u001b[0m\n\u001b[1;32m     39\u001b[0m     \u001b[0;32mwhile\u001b[0m\u001b[0;34m(\u001b[0m\u001b[0;36m1\u001b[0m\u001b[0;34m)\u001b[0m\u001b[0;34m:\u001b[0m\u001b[0;34m\u001b[0m\u001b[0;34m\u001b[0m\u001b[0m\n\u001b[0;32m---> 40\u001b[0;31m         \u001b[0;32mif\u001b[0m \u001b[0;34m(\u001b[0m\u001b[0me\u001b[0m \u001b[0;34m*\u001b[0m \u001b[0md\u001b[0m\u001b[0;34m)\u001b[0m \u001b[0;34m%\u001b[0m \u001b[0mtemp\u001b[0m \u001b[0;34m==\u001b[0m \u001b[0;36m1\u001b[0m\u001b[0;34m:\u001b[0m\u001b[0;34m\u001b[0m\u001b[0;34m\u001b[0m\u001b[0m\n\u001b[0m\u001b[1;32m     41\u001b[0m             \u001b[0;32mbreak\u001b[0m\u001b[0;34m\u001b[0m\u001b[0;34m\u001b[0m\u001b[0m\n\u001b[1;32m     42\u001b[0m         \u001b[0;32melse\u001b[0m\u001b[0;34m:\u001b[0m\u001b[0;34m\u001b[0m\u001b[0;34m\u001b[0m\u001b[0m\n",
      "\u001b[0;31mZeroDivisionError\u001b[0m: integer division or modulo by zero"
     ]
    }
   ],
   "source": [
    "# BigNumber, mpmath package required\n",
    "# run this before execute: pip install BigNumber mpmath\n",
    "\n",
    "import random\n",
    "from BigNumber import BigNumber\n",
    "\n",
    "\n",
    "#make prime number list in range [x,y]\n",
    "# https://www.delftstack.com/howto/python/python-generate-prime-number/\n",
    "def primesInRange(x, y):\n",
    "    prime_list = []\n",
    "    for n in range(x, y):\n",
    "        isPrime = True\n",
    "\n",
    "        for num in range(2, n):\n",
    "            if n % num == 0:\n",
    "                isPrime = False\n",
    "\n",
    "        if isPrime:\n",
    "            prime_list.append(n)\n",
    "            \n",
    "    return prime_list\n",
    "\n",
    "def make_keys(p: BigNumber, q: BigNumber):\n",
    "    # place your own implementation of make_keys\n",
    "    # use e = 65537 as if FIPS standard\n",
    "    n = p * q;\n",
    "    temp = (p-1) * (q-1);\n",
    "    e = 0;\n",
    "    d = 1;\n",
    "    i = 0;\n",
    "    \n",
    "    # e < (p-1) * (q-1)\n",
    "    if temp > 65537:\n",
    "        e = 65537;\n",
    "    else:\n",
    "        e = 3;\n",
    "\n",
    "    while(1):\n",
    "        if (e * d) % temp == 1:\n",
    "            break\n",
    "        else:\n",
    "            d = d + 1;\n",
    "            \n",
    "    return [e, d, n]\n",
    "\n",
    "def rsa_encrypt(plain: BigNumber, e: BigNumber, n: BigNumber):\n",
    "    # place your own implementation of rsa_encrypt\n",
    "    \n",
    "    # c = m^e mod n\n",
    "    result = (plain ** e) % n;\n",
    "    \n",
    "    return result\n",
    "\n",
    "def rsa_decrypt(cipher: BigNumber, d: BigNumber, n: BigNumber):\n",
    "    # place your own implementation of rsa_decrypt\n",
    "    \n",
    "    # m = c ^ d mod N\n",
    "    result = (cipher ** d) % n;\n",
    "    \n",
    "    return result\n",
    "\n",
    "primes = primesInRange(100, 1000) #return prime number list in range [100,1000]\n",
    "\n",
    "P = primes[random.randrange(0, len(primes))] #over 0 under len, random prime number\n",
    "Q = primes[random.randrange(0, len(primes))]\n",
    "\n",
    "while P == Q:\n",
    "    P = primes[random.randrange(0, len(primes))]\n",
    "    Q = primes[random.randrange(0, len(primes))]\n",
    "\n",
    "M = random.randrange(2, 20) # 2~20 random number\n",
    "e, d, N = make_keys(P, Q)\n",
    "C = rsa_encrypt(M, e, N)\n",
    "M2 = rsa_decrypt(C, d, N)\n",
    "\n",
    "print(f\"P = {P}, Q = {Q}, N = {N}, M = {M}, e = {e}, d = {d}, C = {C}, M2 = {M2}\")\n",
    "\n",
    "if M == M2:\n",
    "    print(\"RSA Success!!\")\n",
    "else:\n",
    "    print(\"RSA Failed...\")"
   ]
  },
  {
   "cell_type": "code",
   "execution_count": 28,
   "id": "1f73b088",
   "metadata": {},
   "outputs": [
    {
     "name": "stdout",
     "output_type": "stream",
     "text": [
      "15  |  8  |  1  |  13\n"
     ]
    }
   ],
   "source": [
    "a = P * Q;\n",
    "b = (P-1) * (Q-1);\n",
    "c = (e * d)%b;\n",
    "g = (14 ^ e) % a;\n",
    "print(a,\" | \",b,\" | \",c, \" | \",g)"
   ]
  },
  {
   "cell_type": "code",
   "execution_count": null,
   "id": "2976b9da",
   "metadata": {},
   "outputs": [],
   "source": []
  },
  {
   "cell_type": "code",
   "execution_count": null,
   "id": "ed07029d",
   "metadata": {},
   "outputs": [],
   "source": []
  }
 ],
 "metadata": {
  "kernelspec": {
   "display_name": "Python 3 (ipykernel)",
   "language": "python",
   "name": "python3"
  },
  "language_info": {
   "codemirror_mode": {
    "name": "ipython",
    "version": 3
   },
   "file_extension": ".py",
   "mimetype": "text/x-python",
   "name": "python",
   "nbconvert_exporter": "python",
   "pygments_lexer": "ipython3",
   "version": "3.9.7"
  }
 },
 "nbformat": 4,
 "nbformat_minor": 5
}
